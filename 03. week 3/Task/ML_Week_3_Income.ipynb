{
  "nbformat": 4,
  "nbformat_minor": 0,
  "metadata": {
    "colab": {
      "provenance": [],
      "authorship_tag": "ABX9TyNkUs6Lf5cHSp7y+ljMLJdx",
      "include_colab_link": true
    },
    "kernelspec": {
      "name": "python3",
      "display_name": "Python 3"
    },
    "language_info": {
      "name": "python"
    }
  },
  "cells": [
    {
      "cell_type": "markdown",
      "metadata": {
        "id": "view-in-github",
        "colab_type": "text"
      },
      "source": [
        "<a href=\"https://colab.research.google.com/github/KrituneX/Machine-Learning/blob/main/03.%20week%203/Task/ML_Week_3_Income.ipynb\" target=\"_parent\"><img src=\"https://colab.research.google.com/assets/colab-badge.svg\" alt=\"Open In Colab\"/></a>"
      ]
    },
    {
      "cell_type": "code",
      "execution_count": 21,
      "metadata": {
        "id": "dhQhfRtbrUXr"
      },
      "outputs": [],
      "source": [
        "# 1. Import library\n",
        "import pandas as pd\n",
        "import numpy as np\n",
        "import seaborn as sns\n",
        "import matplotlib.pyplot as plt\n",
        "\n",
        "from sklearn.model_selection import train_test_split\n",
        "from sklearn.preprocessing import LabelEncoder\n",
        "from sklearn.neighbors import KNeighborsClassifier\n",
        "from sklearn.tree import DecisionTreeClassifier\n",
        "from sklearn.preprocessing import label_binarize\n",
        "from IPython.display import display, Math, Markdown\n",
        "from sklearn.metrics import classification_report, roc_auc_score, roc_curve"
      ]
    },
    {
      "cell_type": "code",
      "source": [
        "# 2. Load dataset (gunakan file dari GitHub)\n",
        "url = \"https://raw.githubusercontent.com/KrituneX/Machine-Learning/main/03.%20week%203/dataset/income.csv\"\n",
        "df = pd.read_csv(url)"
      ],
      "metadata": {
        "id": "EEjHrFEE0Epq"
      },
      "execution_count": 22,
      "outputs": []
    },
    {
      "cell_type": "code",
      "source": [
        "# 3. Preprocessing: Encode label kategori jadi numerik\n",
        "le = LabelEncoder()\n",
        "for column in df.columns:\n",
        "    if df[column].dtype == 'object':\n",
        "        df[column] = le.fit_transform(df[column])"
      ],
      "metadata": {
        "id": "yaoJwdD20Hfc"
      },
      "execution_count": 23,
      "outputs": []
    },
    {
      "cell_type": "code",
      "source": [
        "# 4. Pisahkan fitur dan target\n",
        "X = df.drop(\"income\", axis=1)\n",
        "y = df[\"income\"]"
      ],
      "metadata": {
        "id": "mpL2nOeF0K2u"
      },
      "execution_count": 24,
      "outputs": []
    },
    {
      "cell_type": "code",
      "source": [
        "# 5. Split data untuk training dan testing\n",
        "X_train, X_test, y_train, y_test = train_test_split(X, y, test_size=0.3, random_state=42)"
      ],
      "metadata": {
        "id": "s9uKYoer0NlE"
      },
      "execution_count": 14,
      "outputs": []
    },
    {
      "cell_type": "code",
      "source": [
        "# 6. Model K-Nearest Neighbors\n",
        "knn = KNeighborsClassifier(n_neighbors=5)\n",
        "knn.fit(X_train, y_train)\n",
        "knn_pred = knn.predict(X_test)"
      ],
      "metadata": {
        "id": "ZDL0oSb50PxJ"
      },
      "execution_count": 25,
      "outputs": []
    },
    {
      "cell_type": "code",
      "source": [
        "# 7. Model Decision Tree\n",
        "tree = DecisionTreeClassifier(random_state=42)\n",
        "tree.fit(X_train, y_train)\n",
        "tree_pred = tree.predict(X_test)"
      ],
      "metadata": {
        "id": "8ocu3fT30Ta4"
      },
      "execution_count": 26,
      "outputs": []
    },
    {
      "cell_type": "code",
      "source": [
        "# 8. Evaluasi Model - Classification Report\n",
        "print(\"=== K-Nearest Neighbors Report ===\")\n",
        "print(classification_report(y_test, knn_pred))\n",
        "\n",
        "print(\"=== Decision Tree Report ===\")\n",
        "print(classification_report(y_test, tree_pred))"
      ],
      "metadata": {
        "colab": {
          "base_uri": "https://localhost:8080/"
        },
        "id": "DGu07qoN0V8g",
        "outputId": "a7790196-c183-4a6a-e828-08e3a3bd5e22"
      },
      "execution_count": 27,
      "outputs": [
        {
          "output_type": "stream",
          "name": "stdout",
          "text": [
            "=== K-Nearest Neighbors Report ===\n",
            "              precision    recall  f1-score   support\n",
            "\n",
            "           0       0.53      0.76      0.63      7380\n",
            "           1       0.26      0.17      0.21      3729\n",
            "           2       0.43      0.25      0.32      2382\n",
            "           3       0.18      0.04      0.07      1162\n",
            "\n",
            "    accuracy                           0.47     14653\n",
            "   macro avg       0.35      0.31      0.31     14653\n",
            "weighted avg       0.42      0.47      0.43     14653\n",
            "\n",
            "=== Decision Tree Report ===\n",
            "              precision    recall  f1-score   support\n",
            "\n",
            "           0       0.60      0.59      0.60      7380\n",
            "           1       0.33      0.34      0.34      3729\n",
            "           2       0.42      0.41      0.41      2382\n",
            "           3       0.19      0.20      0.20      1162\n",
            "\n",
            "    accuracy                           0.47     14653\n",
            "   macro avg       0.39      0.39      0.39     14653\n",
            "weighted avg       0.47      0.47      0.47     14653\n",
            "\n"
          ]
        }
      ]
    },
    {
      "cell_type": "code",
      "source": [
        "# 9. ROC Curve & AUC Score\n",
        "# Binarisasi target agar bisa dipakai di multi-class ROC\n",
        "y_test_binarized = label_binarize(y_test, classes=[0, 1, 2, 3])\n",
        "\n",
        "# Probabilitas prediksi dari model\n",
        "knn_probs = knn.predict_proba(X_test)\n",
        "tree_probs = tree.predict_proba(X_test)\n",
        "\n",
        "# Hitung AUC Score multi-class\n",
        "knn_auc = roc_auc_score(y_test_binarized, knn_probs, multi_class='ovr')\n",
        "tree_auc = roc_auc_score(y_test_binarized, tree_probs, multi_class='ovr')\n",
        "\n",
        "print(f\"AUC Score k-NN (multi-class): {knn_auc:.2f}\")\n",
        "print(f\"AUC Score Decision Tree (multi-class): {tree_auc:.2f}\")"
      ],
      "metadata": {
        "colab": {
          "base_uri": "https://localhost:8080/"
        },
        "id": "rU4aBaJ90Zer",
        "outputId": "2015fe93-08ee-45dd-a084-a6c642e65983"
      },
      "execution_count": 28,
      "outputs": [
        {
          "output_type": "stream",
          "name": "stdout",
          "text": [
            "AUC Score k-NN (multi-class): 0.59\n",
            "AUC Score Decision Tree (multi-class): 0.59\n"
          ]
        }
      ]
    },
    {
      "cell_type": "code",
      "source": [
        "# 10. Plot ROC Curve\n",
        "fpr = dict()\n",
        "tpr = dict()\n",
        "plt.figure(figsize=(8,6))\n",
        "for i in range(4):  # karena ada 4 kelas\n",
        "    fpr[i], tpr[i], _ = roc_curve(y_test_binarized[:, i], knn_probs[:, i])\n",
        "    plt.plot(fpr[i], tpr[i], label=f'Class {i} (k-NN)')\n",
        "\n",
        "plt.plot([0, 1], [0, 1], 'k--')\n",
        "plt.title(\"Multi-class ROC Curve (k-NN)\")\n",
        "plt.xlabel(\"False Positive Rate\")\n",
        "plt.ylabel(\"True Positive Rate\")\n",
        "plt.legend()\n",
        "plt.grid(True)\n",
        "plt.show()\n"
      ],
      "metadata": {
        "colab": {
          "base_uri": "https://localhost:8080/",
          "height": 564
        },
        "id": "hsSzmmzJ0cO_",
        "outputId": "9dd90d6e-dfdd-4291-c81a-1045691483f5"
      },
      "execution_count": 29,
      "outputs": [
        {
          "output_type": "display_data",
          "data": {
            "text/plain": [
              "<Figure size 800x600 with 1 Axes>"
            ],
            "image/png": "[encoded data removed]"
          },
          "metadata": {}
        }
      ]
    },
    {
      "cell_type": "markdown",
      "source": [
        "# **📚 Penjelasan Lengkap Persamaan Matematika**\n",
        "Model yang digunakan:\n",
        "✅ K-Nearest Neighbors (k-NN)\n",
        "✅ Decision Tree"
      ],
      "metadata": {
        "id": "2VtdD92y03v0"
      }
    },
    {
      "cell_type": "markdown",
      "source": [
        "# **1. 🎯 Akurasi (Accuracy)**\n",
        "\n",
        "📌 Rumus:"
      ],
      "metadata": {
        "id": "Zo5VRdOq0e3a"
      }
    },
    {
      "cell_type": "code",
      "source": [
        "display(Math(r\"\\text{Accuracy} = \\frac{TP + TN}{TP + TN + FP + FN}\"))"
      ],
      "metadata": {
        "colab": {
          "base_uri": "https://localhost:8080/",
          "height": 53
        },
        "id": "zZkuWI5i1IOK",
        "outputId": "d1fb7d49-fc1d-43f0-aef5-6a62cf9f5dc2"
      },
      "execution_count": 30,
      "outputs": [
        {
          "output_type": "display_data",
          "data": {
            "text/plain": [
              "<IPython.core.display.Math object>"
            ],
            "text/latex": "$\\displaystyle \\text{Accuracy} = \\frac{TP + TN}{TP + TN + FP + FN}$"
          },
          "metadata": {}
        }
      ]
    },
    {
      "cell_type": "markdown",
      "source": [
        "**📖 Penjelasan:**\n",
        "\n",
        "Akurasi mengukur seberapa banyak prediksi model yang benar, dibandingkan dengan total seluruh data. Cocok digunakan ketika distribusi data seimbang.\n",
        "\n",
        "TP (True Positive): Data positif yang diprediksi positif\n",
        "\n",
        "TN (True Negative): Data negatif yang diprediksi negatif\n",
        "\n",
        "FP (False Positive): Data negatif tapi diprediksi positif\n",
        "\n",
        "FN (False Negative): Data positif tapi diprediksi negatif"
      ],
      "metadata": {
        "id": "0uApE_wq1hgj"
      }
    },
    {
      "cell_type": "markdown",
      "source": [
        "# **2. 🧮 Presisi (Precision)**\n",
        "\n",
        "📌 Rumus:"
      ],
      "metadata": {
        "id": "zmkJOx-71TCC"
      }
    },
    {
      "cell_type": "code",
      "source": [
        "display(Math(r\"\\text{Precision} = \\frac{TP}{TP + FP}\"))"
      ],
      "metadata": {
        "colab": {
          "base_uri": "https://localhost:8080/",
          "height": 53
        },
        "id": "SZfV8q8T1bLC",
        "outputId": "f524f25e-f5ce-40f4-927d-7793112f1171"
      },
      "execution_count": 31,
      "outputs": [
        {
          "output_type": "display_data",
          "data": {
            "text/plain": [
              "<IPython.core.display.Math object>"
            ],
            "text/latex": "$\\displaystyle \\text{Precision} = \\frac{TP}{TP + FP}$"
          },
          "metadata": {}
        }
      ]
    },
    {
      "cell_type": "markdown",
      "source": [
        "**📖 Penjelasan:**\n",
        "\n",
        "Presisi menjawab pertanyaan:\n",
        "\"Dari semua prediksi positif yang diberikan oleh model, berapa banyak yang benar-benar positif?\"\n",
        "\n",
        "Presisi tinggi artinya model jarang salah memberikan label positif, sangat berguna saat False Positive sangat merugikan (contoh: diagnosa penyakit langka)."
      ],
      "metadata": {
        "id": "F6oFErqe1qYl"
      }
    },
    {
      "cell_type": "markdown",
      "source": [
        "# **3. 📡 Recall (Sensitivity / TPR)**\n",
        "\n",
        "📌 Rumus:"
      ],
      "metadata": {
        "id": "kRB3RaGl1eJT"
      }
    },
    {
      "cell_type": "code",
      "source": [
        "display(Math(r\"\\text{Recall} = \\frac{TP}{TP + FN}\"))"
      ],
      "metadata": {
        "colab": {
          "base_uri": "https://localhost:8080/",
          "height": 53
        },
        "id": "ijLaAGXI1ybV",
        "outputId": "bf62030c-0326-4d85-831b-da9800e40cd4"
      },
      "execution_count": 32,
      "outputs": [
        {
          "output_type": "display_data",
          "data": {
            "text/plain": [
              "<IPython.core.display.Math object>"
            ],
            "text/latex": "$\\displaystyle \\text{Recall} = \\frac{TP}{TP + FN}$"
          },
          "metadata": {}
        }
      ]
    },
    {
      "cell_type": "markdown",
      "source": [
        "**📖 Penjelasan:**\n",
        "\n",
        "Recall menjawab pertanyaan:\n",
        "\"Dari semua data yang sebenarnya positif, berapa banyak yang berhasil dikenali oleh model?\"\n",
        "\n",
        "Recall tinggi artinya model jarang melewatkan data positif. Penting saat False Negative sangat berbahaya (contoh: deteksi kanker)."
      ],
      "metadata": {
        "id": "kNxZNOHd1zZV"
      }
    },
    {
      "cell_type": "markdown",
      "source": [
        "# **4. ⚖️ F1 Score**\n",
        "\n",
        "📌 Rumus:"
      ],
      "metadata": {
        "id": "njUqAwkd2R92"
      }
    },
    {
      "cell_type": "code",
      "source": [
        "display(Math(r\"\\text{F1 Score} = 2 \\times \\frac{\\text{Precision} \\cdot \\text{Recall}}{\\text{Precision} + \\text{Recall}}\"))"
      ],
      "metadata": {
        "colab": {
          "base_uri": "https://localhost:8080/",
          "height": 53
        },
        "id": "k45-0Md32e7Z",
        "outputId": "b2935df2-92ac-4e48-8aaa-a4e49248f69c"
      },
      "execution_count": 33,
      "outputs": [
        {
          "output_type": "display_data",
          "data": {
            "text/plain": [
              "<IPython.core.display.Math object>"
            ],
            "text/latex": "$\\displaystyle \\text{F1 Score} = 2 \\times \\frac{\\text{Precision} \\cdot \\text{Recall}}{\\text{Precision} + \\text{Recall}}$"
          },
          "metadata": {}
        }
      ]
    },
    {
      "cell_type": "markdown",
      "source": [
        "**📖 Penjelasan:**\n",
        "\n",
        "F1 Score adalah harmonik rata-rata antara presisi dan recall. Cocok digunakan saat kamu butuh keseimbangan antara False Positives dan False Negatives.\n",
        "\n",
        "Nilai F1 tinggi hanya bisa dicapai jika kedua nilai presisi dan recall juga tinggi."
      ],
      "metadata": {
        "id": "m9K21F192igR"
      }
    },
    {
      "cell_type": "markdown",
      "source": [
        "# **5. 📊 ROC Curve (Receiver Operating Characteristic)**\n",
        "\n",
        "📌 Sumbu:"
      ],
      "metadata": {
        "id": "w32yFhNJ2k0u"
      }
    },
    {
      "cell_type": "code",
      "source": [
        "display(Markdown(\"### ❗ False Positive Rate (FPR)\"))\n",
        "display(Math(r\"\\text{FPR} = \\frac{FP}{FP + TN}\"))"
      ],
      "metadata": {
        "colab": {
          "base_uri": "https://localhost:8080/",
          "height": 94
        },
        "id": "5lH_VTHi2u_D",
        "outputId": "7f8c302e-17d7-4a23-ba85-e779ea34ddfe"
      },
      "execution_count": 34,
      "outputs": [
        {
          "output_type": "display_data",
          "data": {
            "text/plain": [
              "<IPython.core.display.Markdown object>"
            ],
            "text/markdown": "### ❗ False Positive Rate (FPR)"
          },
          "metadata": {}
        },
        {
          "output_type": "display_data",
          "data": {
            "text/plain": [
              "<IPython.core.display.Math object>"
            ],
            "text/latex": "$\\displaystyle \\text{FPR} = \\frac{FP}{FP + TN}$"
          },
          "metadata": {}
        }
      ]
    },
    {
      "cell_type": "code",
      "source": [
        "display(Markdown(\"### ✅ True Positive Rate (TPR)\"))\n",
        "display(Math(r\"\\text{TPR} = \\frac{TP}{TP + FN}\"))"
      ],
      "metadata": {
        "colab": {
          "base_uri": "https://localhost:8080/",
          "height": 94
        },
        "id": "4hZzWmep2xp4",
        "outputId": "5f49c688-e1c8-42ea-ce5b-2dd771f40e2d"
      },
      "execution_count": 35,
      "outputs": [
        {
          "output_type": "display_data",
          "data": {
            "text/plain": [
              "<IPython.core.display.Markdown object>"
            ],
            "text/markdown": "### ✅ True Positive Rate (TPR)"
          },
          "metadata": {}
        },
        {
          "output_type": "display_data",
          "data": {
            "text/plain": [
              "<IPython.core.display.Math object>"
            ],
            "text/latex": "$\\displaystyle \\text{TPR} = \\frac{TP}{TP + FN}$"
          },
          "metadata": {}
        }
      ]
    },
    {
      "cell_type": "markdown",
      "source": [
        "**📖 Penjelasan:**\n",
        "\n",
        "ROC Curve menggambarkan kemampuan model dalam membedakan kelas di berbagai threshold.\n",
        "Kurva yang mendekati titik kiri atas berarti performa model sangat baik."
      ],
      "metadata": {
        "id": "0P5gxCqc2zV7"
      }
    },
    {
      "cell_type": "markdown",
      "source": [
        "# **6. 🟦 AUC Score (Area Under Curve)**\n",
        "\n",
        "📌 Rumus Konseptual:"
      ],
      "metadata": {
        "id": "nN761iI324x4"
      }
    },
    {
      "cell_type": "code",
      "source": [
        "display(Math(r\"\\text{AUC} = \\int_0^1 TPR(FPR)\\,dFPR\"))"
      ],
      "metadata": {
        "colab": {
          "base_uri": "https://localhost:8080/",
          "height": 59
        },
        "id": "JP9bb_-z27Vi",
        "outputId": "671ab836-4e11-4e95-eadb-3596630b2c4b"
      },
      "execution_count": 36,
      "outputs": [
        {
          "output_type": "display_data",
          "data": {
            "text/plain": [
              "<IPython.core.display.Math object>"
            ],
            "text/latex": "$\\displaystyle \\text{AUC} = \\int_0^1 TPR(FPR)\\,dFPR$"
          },
          "metadata": {}
        }
      ]
    },
    {
      "cell_type": "markdown",
      "source": [
        "**📖 Penjelasan:**\n",
        "\n",
        "AUC adalah luas di bawah kurva ROC. Semakin besar AUC (maksimum 1.0), semakin baik model membedakan antara kelas.\n",
        "\n",
        "Nilai AUC:\n",
        "\n",
        "0.5 = model tebak-tebakan\n",
        "\n",
        "0.7 = cukup baik\n",
        "\n",
        "0.9 = sangat baik\n",
        "\n",
        "Untuk multi-class, digunakan pendekatan:\n",
        "\n",
        "OvR (One-vs-Rest)\n",
        "\n",
        "OVO (One-vs-One)"
      ],
      "metadata": {
        "id": "wrPshKEA2-ww"
      }
    }
  ]
}