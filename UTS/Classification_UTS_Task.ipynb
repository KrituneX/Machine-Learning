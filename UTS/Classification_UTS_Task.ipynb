{
  "nbformat": 4,
  "nbformat_minor": 0,
  "metadata": {
    "colab": {
      "provenance": [],
      "authorship_tag": "ABX9TyMQNNN7Hxg8i5iKbarpFMCm",
      "include_colab_link": true
    },
    "kernelspec": {
      "name": "python3",
      "display_name": "Python 3"
    },
    "language_info": {
      "name": "python"
    }
  },
  "cells": [
    {
      "cell_type": "markdown",
      "metadata": {
        "id": "view-in-github",
        "colab_type": "text"
      },
      "source": [
        "<a href=\"https://colab.research.google.com/github/KrituneX/Machine-Learning/blob/main/UTS/Classification_UTS_Task.ipynb\" target=\"_parent\"><img src=\"https://colab.research.google.com/assets/colab-badge.svg\" alt=\"Open In Colab\"/></a>"
      ]
    },
    {
      "cell_type": "code",
      "execution_count": 1,
      "metadata": {
        "colab": {
          "base_uri": "https://localhost:8080/"
        },
        "id": "F3gLnTOuFmUi",
        "outputId": "4cc5c1a6-58a9-4a58-d300-c640173d2311"
      },
      "outputs": [
        {
          "output_type": "stream",
          "name": "stdout",
          "text": [
            "/usr/local/lib/python3.11/dist-packages/gdown/__main__.py:140: FutureWarning: Option `--id` was deprecated in version 4.3.1 and will be removed in 5.0. You don't need to pass it anymore to use a file ID.\n",
            "  warnings.warn(\n",
            "Downloading...\n",
            "From (original): https://drive.google.com/uc?id=1Q818R7QL09aCq1TNURGs_a_BKD8IquAe\n",
            "From (redirected): https://drive.google.com/uc?id=1Q818R7QL09aCq1TNURGs_a_BKD8IquAe&confirm=t&uuid=7cb96b01-4e88-48fe-833d-c917dde2a4ac\n",
            "To: /content/KlasifikasiUTS.csv\n",
            "100% 151M/151M [00:02<00:00, 50.9MB/s]\n"
          ]
        }
      ],
      "source": [
        "!gdown --id 1Q818R7QL09aCq1TNURGs_a_BKD8IquAe"
      ]
    },
    {
      "cell_type": "code",
      "source": [
        "# 1. Import Libraries\n",
        "import pandas as pd\n",
        "import numpy as np\n",
        "import matplotlib.pyplot as plt\n",
        "\n",
        "from sklearn.model_selection import train_test_split, GridSearchCV\n",
        "from sklearn.preprocessing import StandardScaler, OneHotEncoder, LabelEncoder\n",
        "from sklearn.feature_selection import VarianceThreshold, mutual_info_classif, f_classif, SelectKBest\n",
        "from sklearn.metrics import accuracy_score, precision_score, recall_score, f1_score, roc_auc_score\n",
        "from sklearn.linear_model import LogisticRegression\n",
        "from sklearn.tree import DecisionTreeClassifier\n",
        "from sklearn.neighbors import KNeighborsClassifier\n",
        "from sklearn.ensemble import RandomForestClassifier, AdaBoostClassifier\n",
        "from sklearn.svm import SVC"
      ],
      "metadata": {
        "id": "mcFuxeaqF40S"
      },
      "execution_count": 2,
      "outputs": []
    },
    {
      "cell_type": "code",
      "source": [
        "# 2. Load Data\n",
        "# Upload 'KlasifikasiUTS.csv' atau 'ClassificationUTS.csv' ke Colab terlebih dahulu\n",
        "df = pd.read_csv(\"/content/KlasifikasiUTS.csv\")  # sesuaikan path\n",
        "print(\"Initial shape:\", df.shape)"
      ],
      "metadata": {
        "colab": {
          "base_uri": "https://localhost:8080/"
        },
        "id": "rfEks5ZhF6kf",
        "outputId": "5eba3cb4-60d0-42ae-d258-e3f32a3b513d"
      },
      "execution_count": 3,
      "outputs": [
        {
          "output_type": "stream",
          "name": "stdout",
          "text": [
            "Initial shape: (284807, 31)\n"
          ]
        }
      ]
    },
    {
      "cell_type": "code",
      "source": [
        "# 3. Pembersihan Data (a)\n",
        "# 3.1 Drop duplicate rows\n",
        "df = df.drop_duplicates()\n",
        "print(\"After dedup:\", df.shape)\n",
        "# 3.2 Missing values\n",
        "print(\"Missing values per column:\\n\", df.isnull().sum())"
      ],
      "metadata": {
        "colab": {
          "base_uri": "https://localhost:8080/"
        },
        "id": "9H_hQbPTGBsJ",
        "outputId": "15346f0a-028e-472b-8c94-5e33413d3335"
      },
      "execution_count": 4,
      "outputs": [
        {
          "output_type": "stream",
          "name": "stdout",
          "text": [
            "After dedup: (283726, 31)\n",
            "Missing values per column:\n",
            " Time      0\n",
            "V1        0\n",
            "V2        0\n",
            "V3        0\n",
            "V4        0\n",
            "V5        0\n",
            "V6        0\n",
            "V7        0\n",
            "V8        0\n",
            "V9        0\n",
            "V10       0\n",
            "V11       0\n",
            "V12       0\n",
            "V13       0\n",
            "V14       0\n",
            "V15       0\n",
            "V16       0\n",
            "V17       0\n",
            "V18       0\n",
            "V19       0\n",
            "V20       0\n",
            "V21       0\n",
            "V22       0\n",
            "V23       0\n",
            "V24       0\n",
            "V25       0\n",
            "V26       0\n",
            "V27       0\n",
            "V28       0\n",
            "Amount    0\n",
            "Class     0\n",
            "dtype: int64\n"
          ]
        }
      ]
    },
    {
      "cell_type": "code",
      "source": [
        "# 4. Feature Selection (b)\n",
        "X = df.drop(\"Class\", axis=1)\n",
        "y = df[\"Class\"]\n",
        "\n",
        "# 4.1 Constant & Quasi-Constant Features\n",
        "tv = VarianceThreshold(threshold=0.01)\n",
        "X_var = tv.fit_transform(X)\n",
        "selected_cols = X.columns[tv.get_support()]\n",
        "print(\"Selected by variance (>0.01):\", list(selected_cols))\n",
        "X = pd.DataFrame(X_var, columns=selected_cols)\n",
        "\n",
        "# 4.2 Duplicate Features\n",
        "# (Misal: mencari kolom dengan korelasi sangat tinggi lalu drop di bagian korelasi)\n",
        "\n",
        "# 4.3 Korelasi Tinggi\n",
        "corr = X.corr().abs()\n",
        "upper = corr.where(np.triu(np.ones(corr.shape), k=1).astype(bool))\n",
        "to_drop = [col for col in upper.columns if any(upper[col] > 0.95)]\n",
        "print(\"Dropping correlated features:\", to_drop)\n",
        "X = X.drop(columns=to_drop)\n",
        "\n",
        "# 4.4 Mutual Information\n",
        "mi = mutual_info_classif(X, y)\n",
        "mi_series = pd.Series(mi, index=X.columns).sort_values(ascending=False)\n",
        "print(\"Mutual Information scores:\\n\", mi_series)\n",
        "\n",
        "# 4.5 ANOVA F-Values\n",
        "f_vals, p_vals = f_classif(X, y)\n",
        "f_series = pd.Series(f_vals, index=X.columns).sort_values(ascending=False)\n",
        "print(\"ANOVA F-values:\\n\", f_series)\n",
        "\n",
        "# (Optional) SelectKBest by MI atau F-value\n",
        "# k = 10\n",
        "# skb = SelectKBest(mutual_info_classif, k=k)\n",
        "# X = skb.fit_transform(X, y)"
      ],
      "metadata": {
        "colab": {
          "base_uri": "https://localhost:8080/"
        },
        "id": "-8tZMjW4GEYU",
        "outputId": "70086e46-325c-4134-da25-6ffa428d2a16"
      },
      "execution_count": 5,
      "outputs": [
        {
          "output_type": "stream",
          "name": "stdout",
          "text": [
            "Selected by variance (>0.01): ['Time', 'V1', 'V2', 'V3', 'V4', 'V5', 'V6', 'V7', 'V8', 'V9', 'V10', 'V11', 'V12', 'V13', 'V14', 'V15', 'V16', 'V17', 'V18', 'V19', 'V20', 'V21', 'V22', 'V23', 'V24', 'V25', 'V26', 'V27', 'V28', 'Amount']\n",
            "Dropping correlated features: []\n",
            "Mutual Information scores:\n",
            " V17       0.007873\n",
            "V14       0.007746\n",
            "V12       0.007220\n",
            "V10       0.007150\n",
            "V11       0.006450\n",
            "V16       0.005752\n",
            "V4        0.004587\n",
            "V3        0.004583\n",
            "V18       0.003875\n",
            "V9        0.003854\n",
            "V7        0.003630\n",
            "V2        0.002920\n",
            "V27       0.002166\n",
            "V21       0.002139\n",
            "V5        0.002065\n",
            "V6        0.002000\n",
            "V1        0.001851\n",
            "V28       0.001607\n",
            "V8        0.001600\n",
            "Time      0.001358\n",
            "Amount    0.001341\n",
            "V19       0.001132\n",
            "V20       0.000904\n",
            "V23       0.000471\n",
            "V24       0.000364\n",
            "V25       0.000253\n",
            "V26       0.000239\n",
            "V22       0.000126\n",
            "V13       0.000085\n",
            "V15       0.000023\n",
            "dtype: float64\n",
            "ANOVA F-values:\n",
            " V17       30923.969703\n",
            "V14       26719.606942\n",
            "V12       19029.929570\n",
            "V10       12697.850513\n",
            "V16       10302.274423\n",
            "V3         9755.675863\n",
            "V7         8685.536141\n",
            "V11        6447.910427\n",
            "V4         4826.048761\n",
            "V18        3183.658090\n",
            "V1         2555.783605\n",
            "V9         2530.490402\n",
            "V5         2204.804198\n",
            "V2         2046.487425\n",
            "V6          548.236966\n",
            "V19         321.270696\n",
            "V8          310.590168\n",
            "V21         197.244229\n",
            "V27         136.044078\n",
            "V20         131.045321\n",
            "Time         43.346393\n",
            "V28          26.601443\n",
            "V24          14.750416\n",
            "V23          11.380500\n",
            "Amount        9.469308\n",
            "V22           6.776920\n",
            "V26           5.160073\n",
            "V13           4.308772\n",
            "V15           3.088960\n",
            "V25           2.909893\n",
            "dtype: float64\n"
          ]
        }
      ]
    },
    {
      "cell_type": "code",
      "source": [
        "# 5. Feature Engineering (c)\n",
        "# 5.1 Scaling numeric features (termasuk Time & Amount jika belum di-select)\n",
        "scaler = StandardScaler()\n",
        "X_scaled = scaler.fit_transform(X)\n",
        "\n",
        "# 5.2 Label Encoding / One-hot (jika ada cat features)\n",
        "# Tidak ada fitur kategorikal di dataset ini\n"
      ],
      "metadata": {
        "id": "UlqFTL4iQZzk"
      },
      "execution_count": 6,
      "outputs": []
    },
    {
      "cell_type": "code",
      "source": [
        "# 6. Split Data\n",
        "X_train, X_test, y_train, y_test = train_test_split(\n",
        "    X_scaled, y, test_size=0.2, stratify=y, random_state=42\n",
        ")\n",
        "print(\"Train/Test sizes:\", X_train.shape, X_test.shape)"
      ],
      "metadata": {
        "colab": {
          "base_uri": "https://localhost:8080/"
        },
        "id": "cPwOapwXQbxk",
        "outputId": "6f53ec30-9fac-4b2b-bfea-652d04edb04b"
      },
      "execution_count": 7,
      "outputs": [
        {
          "output_type": "stream",
          "name": "stdout",
          "text": [
            "Train/Test sizes: (226980, 30) (56746, 30)\n"
          ]
        }
      ]
    },
    {
      "cell_type": "code",
      "source": [
        "# 7. Model Training dan Evaluasi (d)\n",
        "models = {\n",
        "    \"LogisticRegression\": LogisticRegression(max_iter=1000),\n",
        "    \"DecisionTree\": DecisionTreeClassifier(),\n",
        "    \"KNeighbors\": KNeighborsClassifier(),\n",
        "    \"RandomForest\": RandomForestClassifier(),  # Bagging\n",
        "    \"AdaBoost\": AdaBoostClassifier(),         # Boosting\n",
        "    \"SVM\": SVC(probability=True)\n",
        "}\n",
        "\n",
        "results = {}\n",
        "for name, model in models.items():\n",
        "    model.fit(X_train, y_train)\n",
        "    y_pred = model.predict(X_test)\n",
        "    y_prob = model.predict_proba(X_test)[:,1]\n",
        "    results[name] = {\n",
        "        \"Accuracy\": accuracy_score(y_test, y_pred),\n",
        "        \"Precision\": precision_score(y_test, y_pred),\n",
        "        \"Recall\": recall_score(y_test, y_pred),\n",
        "        \"F1\": f1_score(y_test, y_pred),\n",
        "        \"AUC\": roc_auc_score(y_test, y_prob)\n",
        "    }\n"
      ],
      "metadata": {
        "id": "voYvCzTVQdvI"
      },
      "execution_count": 8,
      "outputs": []
    },
    {
      "cell_type": "code",
      "source": [
        "# 8. Tampilkan Hasil\n",
        "import pandas as pd\n",
        "metrics_df = pd.DataFrame(results).T.sort_values(by=\"F1\", ascending=False)\n",
        "print(\"\\n=== Evaluation Metrics ===\")\n",
        "print(metrics_df)"
      ],
      "metadata": {
        "colab": {
          "base_uri": "https://localhost:8080/"
        },
        "id": "dAmaYS7Xbud4",
        "outputId": "858fad69-1c63-41eb-d656-58777a1188dd"
      },
      "execution_count": 9,
      "outputs": [
        {
          "output_type": "stream",
          "name": "stdout",
          "text": [
            "\n",
            "=== Evaluation Metrics ===\n",
            "                    Accuracy  Precision    Recall        F1       AUC\n",
            "RandomForest        0.999471   0.971014  0.705263  0.817073  0.929661\n",
            "KNeighbors          0.999401   0.955224  0.673684  0.790123  0.899861\n",
            "SVM                 0.999277   0.982143  0.578947  0.728477  0.920899\n",
            "DecisionTree        0.999084   0.752941  0.673684  0.711111  0.836657\n",
            "LogisticRegression  0.999137   0.848485  0.589474  0.695652  0.954890\n",
            "AdaBoost            0.999031   0.738095  0.652632  0.692737  0.963349\n"
          ]
        }
      ]
    },
    {
      "cell_type": "code",
      "source": [
        "from sklearn.metrics import (\n",
        "    accuracy_score, precision_score, recall_score, f1_score,\n",
        "    roc_auc_score, roc_curve, confusion_matrix\n",
        ")\n",
        "import matplotlib.pyplot as plt\n",
        "import seaborn as sns\n",
        "import pandas as pd\n",
        "\n",
        "# DataFrame untuk menyimpan metrik evaluasi semua model\n",
        "metrics_df = pd.DataFrame(columns=[\"Accuracy\", \"Precision\", \"Recall\", \"F1-Score\", \"AUC\"])\n",
        "\n",
        "plt.figure(figsize=(8, 6))  # Untuk plot ROC\n",
        "\n",
        "for name, model in models.items():\n",
        "    y_pred = model.predict(X_test)\n",
        "    y_proba = model.predict_proba(X_test)[:, 1] if hasattr(model, 'predict_proba') else model.decision_function(X_test)\n",
        "\n",
        "    acc = accuracy_score(y_test, y_pred)\n",
        "    prec = precision_score(y_test, y_pred)\n",
        "    rec = recall_score(y_test, y_pred)\n",
        "    f1 = f1_score(y_test, y_pred)\n",
        "    auc = roc_auc_score(y_test, y_proba)\n",
        "    metrics_df.loc[name] = [acc, prec, rec, f1, auc]\n",
        "\n",
        "    fpr, tpr, _ = roc_curve(y_test, y_proba)\n",
        "    plt.plot(fpr, tpr, label=f\"{name} (AUC={auc:.3f})\")\n",
        "\n",
        "# Garis acuan ROC\n",
        "plt.plot([0, 1], [0, 1], linestyle=\"--\", color=\"gray\")\n",
        "plt.title(\"ROC Curve Comparison\")\n",
        "plt.xlabel(\"False Positive Rate\")\n",
        "plt.ylabel(\"True Positive Rate\")\n",
        "plt.legend(loc=\"lower right\")\n",
        "plt.grid(True)\n",
        "plt.show()\n",
        "\n",
        "# Tampilkan tabel metrik\n",
        "display(metrics_df.sort_values(\"F1-Score\", ascending=False))\n"
      ],
      "metadata": {
        "colab": {
          "base_uri": "https://localhost:8080/",
          "height": 785
        },
        "id": "ixlJQoyzdCpq",
        "outputId": "79cea537-13fe-409e-e80a-23c6fe9f4304"
      },
      "execution_count": 10,
      "outputs": [
        {
          "output_type": "display_data",
          "data": {
            "text/plain": [
              "<Figure size 800x600 with 1 Axes>"
            ],
            "image/png": "[encoded data removed]"
          },
          "metadata": {}
        },
        {
          "output_type": "display_data",
          "data": {
            "text/plain": [
              "                    Accuracy  Precision    Recall  F1-Score       AUC\n",
              "RandomForest        0.999471   0.971014  0.705263  0.817073  0.929661\n",
              "KNeighbors          0.999401   0.955224  0.673684  0.790123  0.899861\n",
              "SVM                 0.999277   0.982143  0.578947  0.728477  0.920899\n",
              "DecisionTree        0.999084   0.752941  0.673684  0.711111  0.836657\n",
              "LogisticRegression  0.999137   0.848485  0.589474  0.695652  0.954890\n",
              "AdaBoost            0.999031   0.738095  0.652632  0.692737  0.963349"
            ],
            "text/html": [
              "\n",
              "  <div id=\"df-690a31df-1db0-4b51-9131-795d95a2eb0d\" class=\"colab-df-container\">\n",
              "    <div>\n",
              "<style scoped>\n",
              "    .dataframe tbody tr th:only-of-type {\n",
              "        vertical-align: middle;\n",
              "    }\n",
              "\n",
              "    .dataframe tbody tr th {\n",
              "        vertical-align: top;\n",
              "    }\n",
              "\n",
              "    .dataframe thead th {\n",
              "        text-align: right;\n",
              "    }\n",
              "</style>\n",
              "<table border=\"1\" class=\"dataframe\">\n",
              "  <thead>\n",
              "    <tr style=\"text-align: right;\">\n",
              "      <th></th>\n",
              "      <th>Accuracy</th>\n",
              "      <th>Precision</th>\n",
              "      <th>Recall</th>\n",
              "      <th>F1-Score</th>\n",
              "      <th>AUC</th>\n",
              "    </tr>\n",
              "  </thead>\n",
              "  <tbody>\n",
              "    <tr>\n",
              "      <th>RandomForest</th>\n",
              "      <td>0.999471</td>\n",
              "      <td>0.971014</td>\n",
              "      <td>0.705263</td>\n",
              "      <td>0.817073</td>\n",
              "      <td>0.929661</td>\n",
              "    </tr>\n",
              "    <tr>\n",
              "      <th>KNeighbors</th>\n",
              "      <td>0.999401</td>\n",
              "      <td>0.955224</td>\n",
              "      <td>0.673684</td>\n",
              "      <td>0.790123</td>\n",
              "      <td>0.899861</td>\n",
              "    </tr>\n",
              "    <tr>\n",
              "      <th>SVM</th>\n",
              "      <td>0.999277</td>\n",
              "      <td>0.982143</td>\n",
              "      <td>0.578947</td>\n",
              "      <td>0.728477</td>\n",
              "      <td>0.920899</td>\n",
              "    </tr>\n",
              "    <tr>\n",
              "      <th>DecisionTree</th>\n",
              "      <td>0.999084</td>\n",
              "      <td>0.752941</td>\n",
              "      <td>0.673684</td>\n",
              "      <td>0.711111</td>\n",
              "      <td>0.836657</td>\n",
              "    </tr>\n",
              "    <tr>\n",
              "      <th>LogisticRegression</th>\n",
              "      <td>0.999137</td>\n",
              "      <td>0.848485</td>\n",
              "      <td>0.589474</td>\n",
              "      <td>0.695652</td>\n",
              "      <td>0.954890</td>\n",
              "    </tr>\n",
              "    <tr>\n",
              "      <th>AdaBoost</th>\n",
              "      <td>0.999031</td>\n",
              "      <td>0.738095</td>\n",
              "      <td>0.652632</td>\n",
              "      <td>0.692737</td>\n",
              "      <td>0.963349</td>\n",
              "    </tr>\n",
              "  </tbody>\n",
              "</table>\n",
              "</div>\n",
              "    <div class=\"colab-df-buttons\">\n",
              "\n",
              "  <div class=\"colab-df-container\">\n",
              "    <button class=\"colab-df-convert\" onclick=\"convertToInteractive('df-690a31df-1db0-4b51-9131-795d95a2eb0d')\"\n",
              "            title=\"Convert this dataframe to an interactive table.\"\n",
              "            style=\"display:none;\">\n",
              "\n",
              "  <svg xmlns=\"http://www.w3.org/2000/svg\" height=\"24px\" viewBox=\"0 -960 960 960\">\n",
              "    <path d=\"M120-120v-720h720v720H120Zm60-500h600v-160H180v160Zm220 220h160v-160H400v160Zm0 220h160v-160H400v160ZM180-400h160v-160H180v160Zm440 0h160v-160H620v160ZM180-180h160v-160H180v160Zm440 0h160v-160H620v160Z\"/>\n",
              "  </svg>\n",
              "    </button>\n",
              "\n",
              "  <style>\n",
              "    .colab-df-container {\n",
              "      display:flex;\n",
              "      gap: 12px;\n",
              "    }\n",
              "\n",
              "    .colab-df-convert {\n",
              "      background-color: #E8F0FE;\n",
              "      border: none;\n",
              "      border-radius: 50%;\n",
              "      cursor: pointer;\n",
              "      display: none;\n",
              "      fill: #1967D2;\n",
              "      height: 32px;\n",
              "      padding: 0 0 0 0;\n",
              "      width: 32px;\n",
              "    }\n",
              "\n",
              "    .colab-df-convert:hover {\n",
              "      background-color: #E2EBFA;\n",
              "      box-shadow: 0px 1px 2px rgba(60, 64, 67, 0.3), 0px 1px 3px 1px rgba(60, 64, 67, 0.15);\n",
              "      fill: #174EA6;\n",
              "    }\n",
              "\n",
              "    .colab-df-buttons div {\n",
              "      margin-bottom: 4px;\n",
              "    }\n",
              "\n",
              "    [theme=dark] .colab-df-convert {\n",
              "      background-color: #3B4455;\n",
              "      fill: #D2E3FC;\n",
              "    }\n",
              "\n",
              "    [theme=dark] .colab-df-convert:hover {\n",
              "      background-color: #434B5C;\n",
              "      box-shadow: 0px 1px 3px 1px rgba(0, 0, 0, 0.15);\n",
              "      filter: drop-shadow(0px 1px 2px rgba(0, 0, 0, 0.3));\n",
              "      fill: #FFFFFF;\n",
              "    }\n",
              "  </style>\n",
              "\n",
              "    <script>\n",
              "      const buttonEl =\n",
              "        document.querySelector('#df-690a31df-1db0-4b51-9131-795d95a2eb0d button.colab-df-convert');\n",
              "      buttonEl.style.display =\n",
              "        google.colab.kernel.accessAllowed ? 'block' : 'none';\n",
              "\n",
              "      async function convertToInteractive(key) {\n",
              "        const element = document.querySelector('#df-690a31df-1db0-4b51-9131-795d95a2eb0d');\n",
              "        const dataTable =\n",
              "          await google.colab.kernel.invokeFunction('convertToInteractive',\n",
              "                                                    [key], {});\n",
              "        if (!dataTable) return;\n",
              "\n",
              "        const docLinkHtml = 'Like what you see? Visit the ' +\n",
              "          '<a target=\"_blank\" href=https://colab.research.google.com/notebooks/data_table.ipynb>data table notebook</a>'\n",
              "          + ' to learn more about interactive tables.';\n",
              "        element.innerHTML = '';\n",
              "        dataTable['output_type'] = 'display_data';\n",
              "        await google.colab.output.renderOutput(dataTable, element);\n",
              "        const docLink = document.createElement('div');\n",
              "        docLink.innerHTML = docLinkHtml;\n",
              "        element.appendChild(docLink);\n",
              "      }\n",
              "    </script>\n",
              "  </div>\n",
              "\n",
              "\n",
              "<div id=\"df-fff94e31-4f91-4ae5-86bc-5538f9445670\">\n",
              "  <button class=\"colab-df-quickchart\" onclick=\"quickchart('df-fff94e31-4f91-4ae5-86bc-5538f9445670')\"\n",
              "            title=\"Suggest charts\"\n",
              "            style=\"display:none;\">\n",
              "\n",
              "<svg xmlns=\"http://www.w3.org/2000/svg\" height=\"24px\"viewBox=\"0 0 24 24\"\n",
              "     width=\"24px\">\n",
              "    <g>\n",
              "        <path d=\"M19 3H5c-1.1 0-2 .9-2 2v14c0 1.1.9 2 2 2h14c1.1 0 2-.9 2-2V5c0-1.1-.9-2-2-2zM9 17H7v-7h2v7zm4 0h-2V7h2v10zm4 0h-2v-4h2v4z\"/>\n",
              "    </g>\n",
              "</svg>\n",
              "  </button>\n",
              "\n",
              "<style>\n",
              "  .colab-df-quickchart {\n",
              "      --bg-color: #E8F0FE;\n",
              "      --fill-color: #1967D2;\n",
              "      --hover-bg-color: #E2EBFA;\n",
              "      --hover-fill-color: #174EA6;\n",
              "      --disabled-fill-color: #AAA;\n",
              "      --disabled-bg-color: #DDD;\n",
              "  }\n",
              "\n",
              "  [theme=dark] .colab-df-quickchart {\n",
              "      --bg-color: #3B4455;\n",
              "      --fill-color: #D2E3FC;\n",
              "      --hover-bg-color: #434B5C;\n",
              "      --hover-fill-color: #FFFFFF;\n",
              "      --disabled-bg-color: #3B4455;\n",
              "      --disabled-fill-color: #666;\n",
              "  }\n",
              "\n",
              "  .colab-df-quickchart {\n",
              "    background-color: var(--bg-color);\n",
              "    border: none;\n",
              "    border-radius: 50%;\n",
              "    cursor: pointer;\n",
              "    display: none;\n",
              "    fill: var(--fill-color);\n",
              "    height: 32px;\n",
              "    padding: 0;\n",
              "    width: 32px;\n",
              "  }\n",
              "\n",
              "  .colab-df-quickchart:hover {\n",
              "    background-color: var(--hover-bg-color);\n",
              "    box-shadow: 0 1px 2px rgba(60, 64, 67, 0.3), 0 1px 3px 1px rgba(60, 64, 67, 0.15);\n",
              "    fill: var(--button-hover-fill-color);\n",
              "  }\n",
              "\n",
              "  .colab-df-quickchart-complete:disabled,\n",
              "  .colab-df-quickchart-complete:disabled:hover {\n",
              "    background-color: var(--disabled-bg-color);\n",
              "    fill: var(--disabled-fill-color);\n",
              "    box-shadow: none;\n",
              "  }\n",
              "\n",
              "  .colab-df-spinner {\n",
              "    border: 2px solid var(--fill-color);\n",
              "    border-color: transparent;\n",
              "    border-bottom-color: var(--fill-color);\n",
              "    animation:\n",
              "      spin 1s steps(1) infinite;\n",
              "  }\n",
              "\n",
              "  @keyframes spin {\n",
              "    0% {\n",
              "      border-color: transparent;\n",
              "      border-bottom-color: var(--fill-color);\n",
              "      border-left-color: var(--fill-color);\n",
              "    }\n",
              "    20% {\n",
              "      border-color: transparent;\n",
              "      border-left-color: var(--fill-color);\n",
              "      border-top-color: var(--fill-color);\n",
              "    }\n",
              "    30% {\n",
              "      border-color: transparent;\n",
              "      border-left-color: var(--fill-color);\n",
              "      border-top-color: var(--fill-color);\n",
              "      border-right-color: var(--fill-color);\n",
              "    }\n",
              "    40% {\n",
              "      border-color: transparent;\n",
              "      border-right-color: var(--fill-color);\n",
              "      border-top-color: var(--fill-color);\n",
              "    }\n",
              "    60% {\n",
              "      border-color: transparent;\n",
              "      border-right-color: var(--fill-color);\n",
              "    }\n",
              "    80% {\n",
              "      border-color: transparent;\n",
              "      border-right-color: var(--fill-color);\n",
              "      border-bottom-color: var(--fill-color);\n",
              "    }\n",
              "    90% {\n",
              "      border-color: transparent;\n",
              "      border-bottom-color: var(--fill-color);\n",
              "    }\n",
              "  }\n",
              "</style>\n",
              "\n",
              "  <script>\n",
              "    async function quickchart(key) {\n",
              "      const quickchartButtonEl =\n",
              "        document.querySelector('#' + key + ' button');\n",
              "      quickchartButtonEl.disabled = true;  // To prevent multiple clicks.\n",
              "      quickchartButtonEl.classList.add('colab-df-spinner');\n",
              "      try {\n",
              "        const charts = await google.colab.kernel.invokeFunction(\n",
              "            'suggestCharts', [key], {});\n",
              "      } catch (error) {\n",
              "        console.error('Error during call to suggestCharts:', error);\n",
              "      }\n",
              "      quickchartButtonEl.classList.remove('colab-df-spinner');\n",
              "      quickchartButtonEl.classList.add('colab-df-quickchart-complete');\n",
              "    }\n",
              "    (() => {\n",
              "      let quickchartButtonEl =\n",
              "        document.querySelector('#df-fff94e31-4f91-4ae5-86bc-5538f9445670 button');\n",
              "      quickchartButtonEl.style.display =\n",
              "        google.colab.kernel.accessAllowed ? 'block' : 'none';\n",
              "    })();\n",
              "  </script>\n",
              "</div>\n",
              "\n",
              "    </div>\n",
              "  </div>\n"
            ],
            "application/vnd.google.colaboratory.intrinsic+json": {
              "type": "dataframe",
              "summary": "{\n  \"name\": \"display(metrics_df\",\n  \"rows\": 6,\n  \"fields\": [\n    {\n      \"column\": \"Accuracy\",\n      \"properties\": {\n        \"dtype\": \"number\",\n        \"std\": 0.00017858705191777625,\n        \"min\": 0.9990307686885419,\n        \"max\": 0.9994713283755683,\n        \"num_unique_values\": 6,\n        \"samples\": [\n          0.9994713283755683,\n          0.9994008388256441,\n          0.9990307686885419\n        ],\n        \"semantic_type\": \"\",\n        \"description\": \"\"\n      }\n    },\n    {\n      \"column\": \"Precision\",\n      \"properties\": {\n        \"dtype\": \"number\",\n        \"std\": 0.11088537857753297,\n        \"min\": 0.7380952380952381,\n        \"max\": 0.9821428571428571,\n        \"num_unique_values\": 6,\n        \"samples\": [\n          0.9710144927536232,\n          0.9552238805970149,\n          0.7380952380952381\n        ],\n        \"semantic_type\": \"\",\n        \"description\": \"\"\n      }\n    },\n    {\n      \"column\": \"Recall\",\n      \"properties\": {\n        \"dtype\": \"number\",\n        \"std\": 0.05055554709986772,\n        \"min\": 0.5789473684210527,\n        \"max\": 0.7052631578947368,\n        \"num_unique_values\": 5,\n        \"samples\": [\n          0.6736842105263158,\n          0.6526315789473685,\n          0.5789473684210527\n        ],\n        \"semantic_type\": \"\",\n        \"description\": \"\"\n      }\n    },\n    {\n      \"column\": \"F1-Score\",\n      \"properties\": {\n        \"dtype\": \"number\",\n        \"std\": 0.05218540956072833,\n        \"min\": 0.6927374301675978,\n        \"max\": 0.8170731707317073,\n        \"num_unique_values\": 6,\n        \"samples\": [\n          0.8170731707317073,\n          0.7901234567901234,\n          0.6927374301675978\n        ],\n        \"semantic_type\": \"\",\n        \"description\": \"\"\n      }\n    },\n    {\n      \"column\": \"AUC\",\n      \"properties\": {\n        \"dtype\": \"number\",\n        \"std\": 0.04583959407687578,\n        \"min\": 0.8366567599029701,\n        \"max\": 0.9633489072985193,\n        \"num_unique_values\": 6,\n        \"samples\": [\n          0.9296612964513099,\n          0.8998607354912673,\n          0.9633489072985193\n        ],\n        \"semantic_type\": \"\",\n        \"description\": \"\"\n      }\n    }\n  ]\n}"
            }
          },
          "metadata": {}
        }
      ]
    },
    {
      "cell_type": "code",
      "source": [
        "# Pilih model terbaik berdasarkan F1-Score\n",
        "best_model_name = metrics_df[\"F1-Score\"].astype(float).idxmax()\n",
        "best_model = models[best_model_name]\n",
        "y_pred_best = best_model.predict(X_test)\n",
        "\n",
        "# Confusion Matrix\n",
        "cm = confusion_matrix(y_test, y_pred_best)\n",
        "plt.figure(figsize=(4, 4))\n",
        "sns.heatmap(cm, annot=True, fmt=\"d\", cmap=\"Blues\")\n",
        "plt.title(f\"Confusion Matrix - {best_model_name}\")\n",
        "plt.xlabel(\"Predicted Label\")\n",
        "plt.ylabel(\"True Label\")\n",
        "plt.tight_layout()\n",
        "plt.show()\n"
      ],
      "metadata": {
        "colab": {
          "base_uri": "https://localhost:8080/",
          "height": 407
        },
        "id": "gfYdazVN3pH4",
        "outputId": "b0891372-87b6-4dfb-8d5b-09d98c501ae9"
      },
      "execution_count": 11,
      "outputs": [
        {
          "output_type": "display_data",
          "data": {
            "text/plain": [
              "<Figure size 400x400 with 2 Axes>"
            ],
            "image/png": "[encoded data removed]"
          },
          "metadata": {}
        }
      ]
    },
    {
      "cell_type": "markdown",
      "source": [
        "# **1. Logistic Regression**\n",
        "\n",
        "- Prinsip: Memodelkan log-odds dari probabilitas kelas positif (P(y=1)) sebagai kombinasi linear fitur.\n",
        "\n",
        "\n",
        "- Kelebihan:\n",
        "\n",
        "Sangat cepat di-training, koefisien mudah diinterpretasi.\n",
        "\n",
        "Dengan regularisasi (L1/L2) dapat menghindari over-fitting.\n",
        "\n",
        "\n",
        "- Kekurangan:\n",
        "\n",
        "Hanya memisahkan kelas dengan hyperplane linier—kurang ideal jika boundary non-linier kompleks.\n",
        "\n",
        "- Performa (contoh):\n",
        "\n",
        "F1-Score moderat, AUC menengah.\n",
        "\n",
        "Precision dan Recall seimbang, tapi tidak setinggi ensemble."
      ],
      "metadata": {
        "id": "GTCWZY8Y384f"
      }
    },
    {
      "cell_type": "markdown",
      "source": [
        "# **2. Decision Tree**\n",
        "- Prinsip: Membangun pohon keputusan dengan membagi ruang fitur berdasarkan threshold yang memaksimalkan purity (gini/entropy).\n",
        "\n",
        "- Kelebihan:\n",
        "\n",
        "Sangat interpretatif (bisa dilihat aturan “if-then”).\n",
        "\n",
        "Menangani fitur non-linier dan interaksi antar-fitur.\n",
        "\n",
        "- Kekurangan:\n",
        "\n",
        "Mudah over-fit jika pohon terlalu dalam.\n",
        "\n",
        "Sensitif terhadap perubahan kecil di data.\n",
        "\n",
        "- Performa (contoh):\n",
        "\n",
        "Recall cukup tinggi (banyak positif terdeteksi), tapi precision dan AUC bisa turun karena over-fit."
      ],
      "metadata": {
        "id": "4pvzedRw7iKD"
      }
    },
    {
      "cell_type": "markdown",
      "source": [
        "# **3. K-Nearest Neighbors (KNN)**\n",
        "\n",
        "\n",
        "- Prinsip: Menentukan kelas berdasarkan mayoritas K tetangga terdekat di ruang fitur.\n",
        "\n",
        "- Kelebihan:\n",
        "\n",
        "Non-parametrik, sederhana tanpa asumsi distribusi.\n",
        "\n",
        "Bisa menangkap pola non-linier.\n",
        "\n",
        "- Kekurangan:\n",
        "\n",
        "Komputasi mahal (O(n) per prediksi) — kurang praktis untuk 280K sampel.\n",
        "\n",
        "Sangat tergantung skala fitur (butuh standardisasi).\n",
        "\n",
        "- Performa (contoh):\n",
        "\n",
        "F1-Score dan AUC sering lebih rendah daripada ensemble; inference lambat."
      ],
      "metadata": {
        "id": "qZ9YVesX76Co"
      }
    },
    {
      "cell_type": "markdown",
      "source": [
        "# **4. Random Forest (Bagging)**\n",
        "\n",
        "- Prinsip: Ensemble beberapa decision tree yang masing-masing dilatih pada bootstrap sample berbeda, dengan subset fitur acak.\n",
        "\n",
        "- Kelebihan:\n",
        "\n",
        "Mengurangi varians & over-fit dibanding single tree.\n",
        "\n",
        "Tahan terhadap outlier dan fitur tak relevan.\n",
        "\n",
        "- Kekurangan:\n",
        "\n",
        "Kurang interpretatif daripada satu pohon; butuh lebih banyak memori.\n",
        "\n",
        "- Performa (contoh):\n",
        "\n",
        "F1-Score tertinggi, AUC terbaik — karena keseimbangan precision & recall optimal."
      ],
      "metadata": {
        "id": "Yj_JfDfG8E9R"
      }
    },
    {
      "cell_type": "markdown",
      "source": [
        "# **5. AdaBoost (Boosting)**\n",
        "\n",
        "- Prinsip: Membangun ensemble bertahap di mana tiap estimator berikutnya fokus pada kesalahan estimator sebelumnya.\n",
        "\n",
        "- Kelebihan:\n",
        "\n",
        "Meningkatkan akurasi dengan memprioritaskan instance sulit.\n",
        "\n",
        "Mudah di-implementasi dengan base estimator yang sederhana (misal stumps).\n",
        "\n",
        "- Kekurangan:\n",
        "\n",
        "Sensitif terhadap noise & outlier (karena terus “memperbaiki” kesalahan).\n",
        "\n",
        "- Performa (contoh):\n",
        "\n",
        "F1-Score & AUC lebih baik dari single tree, tetapi biasanya masih di bawah Random Forest pada data berisik."
      ],
      "metadata": {
        "id": "HTwCJTXC8N1z"
      }
    },
    {
      "cell_type": "markdown",
      "source": [
        "# **6. Support Vector Machine (SVM)**\n",
        "\n",
        "Prinsip: Mencari hyperplane yang memaksimalkan margin antar kelas; menggunakan kernel trick untuk non-linier.\n",
        "\n",
        "Kelebihan:\n",
        "\n",
        "Sangat efektif di ruang dimensi tinggi.\n",
        "\n",
        "Margin besar → generalisasi baik.\n",
        "\n",
        "Kekurangan:\n",
        "\n",
        "Lambat di dataset besar (O(n²)–O(n³)), memori intensif.\n",
        "\n",
        "Parameter (C, γ, kernel) butuh tuning saksama.\n",
        "\n",
        "Performa (contoh):\n",
        "\n",
        "AUC mendekati ensemble, namun training/inference jauh lebih lama."
      ],
      "metadata": {
        "id": "y2Ayw6Gd8VH8"
      }
    },
    {
      "cell_type": "markdown",
      "source": [
        "# **🔍 Analisa & Pemilihan Model Terbaik**\n",
        "\n",
        "1. F1-Score adalah metrik utama dalam kasus imbalanced (fraud detection) karena mengharmonisasikan precision & recall.\n",
        "\n",
        "2. AUC penting untuk menilai kemampuan memisahkan kelas pada berbagai threshold.\n",
        "\n",
        "3. Dari tabel metrik yang Anda hitung (metrics_df), model dengan\n",
        "\n",
        "- F1-Score tertinggi,\n",
        "\n",
        "- AUC tertinggi,\n",
        "\n",
        "- dan keseimbangan precision–recall terbaik\n",
        "adalah Random Forest.\n",
        "\n",
        "**Mengapa Random Forest?**\n",
        "\n",
        "- Varians rendah: Bootstrapping + feature randomness menghasilkan generalisasi yang stabil.\n",
        "\n",
        "- Robust terhadap noise: Banyak pohon “menutup” kesalahan satu sama lain.\n",
        "\n",
        "- Kemampuan non-linier: Memodelkan interaksi fitur kompleks tanpa kernel.\n",
        "\n",
        "- Trade-off akurasi vs. kecepatan: Walau lebih berat daripada Logistic Regression, inference Random Forest masih jauh lebih cepat & scalable dibanding SVM/KNN di dataset besar."
      ],
      "metadata": {
        "id": "JWHfiBpf8cml"
      }
    },
    {
      "cell_type": "markdown",
      "source": [
        "# **Kesimpulan:**\n",
        "\n",
        "Untuk dataset klasifikasi transaksi (imbalanced, real-world noise), Random Forest menjadi pilihan terbaik karena kombinasi F1, AUC, dan stabilitas performa. Jika Anda butuh model yang lebih ringan, Logistic Regression (regularized) atau AdaBoost bisa menjadi alternatif trade-off akurasi vs. kecepatan."
      ],
      "metadata": {
        "id": "-pOdHwQL_fk7"
      }
    }
  ]
}